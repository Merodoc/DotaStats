{
 "cells": [
  {
   "cell_type": "markdown",
   "metadata": {},
   "source": [
    "Team Comparisons"
   ]
  },
  {
   "cell_type": "code",
   "execution_count": 1,
   "metadata": {},
   "outputs": [],
   "source": [
    "import csv\n",
    "import numpy as np\n",
    "import pandas as pd"
   ]
  },
  {
   "cell_type": "markdown",
   "metadata": {},
   "source": [
    "Import Data"
   ]
  },
  {
   "cell_type": "code",
   "execution_count": null,
   "metadata": {},
   "outputs": [],
   "source": [
    "Stats = []\n",
    "with open('TI9.csv', newline = '') as csvfile:\n",
    "    spamreader = csv.reader(csvfile, delimiter = ',', quotechar='|')\n",
    "    for row in spamreader:\n",
    "        Stats.append(row)"
   ]
  },
  {
   "cell_type": "markdown",
   "metadata": {},
   "source": [
    "Games Array"
   ]
  },
  {
   "cell_type": "code",
   "execution_count": 3,
   "metadata": {},
   "outputs": [],
   "source": [
    "Team1 = []\n",
    "Team2 = []\n",
    "Winner = []\n",
    "i = 0\n",
    "for game in Stats:\n",
    "    if i == 0:\n",
    "        i += 1\n",
    "    else:\n",
    "        Team1.append(Stats[i][1])\n",
    "        Team2.append(Stats[i][4])\n",
    "        Winner.append(Stats[i][7])\n",
    "        i += 1       "
   ]
  },
  {
   "cell_type": "markdown",
   "metadata": {},
   "source": [
    "Total Wins per team"
   ]
  },
  {
   "cell_type": "code",
   "execution_count": 4,
   "metadata": {},
   "outputs": [
    {
     "name": "stdout",
     "output_type": "stream",
     "text": [
      "OG\n",
      "Team Liquid\n",
      "PSG.LGD\n",
      "Team Secret\n",
      "Vici Gaming\n",
      "Evil Geniuses\n",
      "Royal Never Give Up\n",
      "Infamous Gaming\n",
      "Newbee\n",
      "TNC Predator\n",
      "Virtus.pro\n",
      "Fnatic\n",
      "Alliance\n",
      "Mineski\n",
      "Natus Vincere\n",
      "Chaos Esports Club\n",
      "KEEN GAMING\n",
      "Ninjas in Pyjamas\n"
     ]
    }
   ],
   "source": [
    "Teamlist = ['OG','Team Liquid', 'PSG.LGD','Team Secret','Vici Gaming','Evil Geniuses','Royal Never Give Up','Infamous Gaming', 'Newbee', 'TNC Predator','Virtus.pro','Fnatic','Alliance','Mineski','Natus Vincere', 'Chaos Esports Club', 'KEEN GAMING', 'Ninjas in Pyjamas']\n",
    "\n",
    "\n",
    "wij = np.zeros((len(Teamlist), len(Teamlist)))\n",
    "\n",
    "\n",
    "wincounts = []\n",
    "for x in Teamlist:\n",
    "    print(x)\n",
    "    wincounts.append(Winner.count(x))"
   ]
  },
  {
   "cell_type": "markdown",
   "metadata": {},
   "source": [
    "Wins i vs j matrix"
   ]
  },
  {
   "cell_type": "code",
   "execution_count": null,
   "metadata": {},
   "outputs": [],
   "source": [
    "d = {'Radiant':Team1, 'Dire':Team2, 'Winner':Winner}\n",
    "\n",
    "index_dict = {'OG':0,'Team Liquid':1,'PSG.LGD':2,'Team Secret':3,'Vici Gaming':4,'Evil Geniuses':5,'Royal Never Give Up':6,'Infamous Gaming':7,'Newbee':8,'TNC Predator':9,'Virtus.pro':10,'Fnatic':11,'Alliance':12,'Mineski':13,'Natus Vincere':14,'Chaos Esports Club':15,'KEEN GAMING':16,'Ninjas in Pyjamas':17}\n",
    "\n",
    "games = pd.DataFrame(data = d)\n",
    "\n",
    "Wi = pd.DataFrame(np.array([wincounts]), columns = Teamlist)\n",
    "    \n",
    "np.array(wincounts)\n",
    "print(Wi)\n",
    "print(games)\n",
    "print(games.loc[:,'Radiant'])\n",
    "\n",
    "\n",
    "for n in range(len(games.loc[:,'Radiant'])):\n",
    "    i = games.loc[n,'Radiant']\n",
    "    j = games.loc[n,'Dire']\n",
    "    if games.loc[n,'Winner'] == i:\n",
    "        wij[index_dict[i],index_dict[j]] += 1\n",
    "    else:\n",
    "        wij[index_dict[j],index_dict[i]] += 1\n",
    "\n",
    "print(wij)"
   ]
  }
 ],
 "metadata": {
  "kernelspec": {
   "display_name": "Python 3",
   "language": "python",
   "name": "python3"
  },
  "language_info": {
   "codemirror_mode": {
    "name": "ipython",
    "version": 3
   },
   "file_extension": ".py",
   "mimetype": "text/x-python",
   "name": "python",
   "nbconvert_exporter": "python",
   "pygments_lexer": "ipython3",
   "version": "3.7.3"
  }
 },
 "nbformat": 4,
 "nbformat_minor": 2
}
